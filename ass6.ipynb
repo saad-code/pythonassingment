{
 "cells": [
  {
   "cell_type": "code",
   "execution_count": 1,
   "metadata": {},
   "outputs": [
    {
     "name": "stdout",
     "output_type": "stream",
     "text": [
      "Object-oriented programming (OOP) is a programming paradigm based on the concept of [objects], which can contain data, in the form of fields (often known as attributes or properties), and code, in the form of procedures (often known as methods). A feature of objects is an object's procedures that can access and often modify the data fields of the object with which they are associated objects have a notion of [this] or [self]. \n"
     ]
    }
   ],
   "source": [
    "#what is object oriented programming?\n",
    "print(\"Object-oriented programming (OOP) is a programming paradigm based on the concept of [objects], which can contain data, in the form of fields (often known as attributes or properties), and code, in the form of procedures (often known as methods). A feature of objects is an object's procedures that can access and often modify the data fields of the object with which they are associated objects have a notion of [this] or [self]. \")"
   ]
  },
  {
   "cell_type": "code",
   "execution_count": 2,
   "metadata": {},
   "outputs": [
    {
     "name": "stdout",
     "output_type": "stream",
     "text": [
      "Here's a detailed look at some of OOP's top benefits:\n",
      "1: Modularity for easier troubleshooting. Something has gone wrong, and you have no idea where to look.\n",
      "2: Reuse of code through inheritance.\n",
      "3: Flexibility through polymorphism.\n",
      "4: Effective problem solving.\n"
     ]
    }
   ],
   "source": [
    "#Benifits o OOP.\n",
    "print(\"Here's a detailed look at some of OOP's top benefits:\")\n",
    "print(\"1: Modularity for easier troubleshooting. Something has gone wrong, and you have no idea where to look.\")\n",
    "print(\"2: Reuse of code through inheritance.\")\n",
    "print(\"3: Flexibility through polymorphism.\")\n",
    "print(\"4: Effective problem solving.\")"
   ]
  },
  {
   "cell_type": "code",
   "execution_count": 3,
   "metadata": {},
   "outputs": [
    {
     "name": "stdout",
     "output_type": "stream",
     "text": [
      "METHOD\n",
      "1: Method is called by its name, but it is associated to an object [dependent].\n",
      "2: A method is implicitly passed the object on which it is invoked.\n",
      "3: It may or may not return any data.\n",
      "4: A method can operate on the data (instance variables) that is contained by the corresponding class.\n",
      "FUNCTION\n",
      "1: Function is block of code that is also called by its name. (independent).\n",
      "2: The function can have different parameters or may not have any at all. If any data (parameters) are passed, they are passed explicitly.\n",
      "3: It may or may not return any data.\n",
      "4: Function does not deal with Class and its instance concept.\n"
     ]
    }
   ],
   "source": [
    "#Differetiate between method and function\n",
    "print(\"METHOD\")\n",
    "print(\"1: Method is called by its name, but it is associated to an object [dependent].\")\n",
    "print(\"2: A method is implicitly passed the object on which it is invoked.\")\n",
    "print(\"3: It may or may not return any data.\")\n",
    "print(\"4: A method can operate on the data (instance variables) that is contained by the corresponding class.\")\n",
    "print(\"FUNCTION\")\n",
    "print(\"1: Function is block of code that is also called by its name. (independent).\")\n",
    "print(\"2: The function can have different parameters or may not have any at all. If any data (parameters) are passed, they are passed explicitly.\")\n",
    "print(\"3: It may or may not return any data.\")\n",
    "print(\"4: Function does not deal with Class and its instance concept.\")"
   ]
  },
  {
   "cell_type": "code",
   "execution_count": 4,
   "metadata": {},
   "outputs": [
    {
     "name": "stdout",
     "output_type": "stream",
     "text": [
      "CLASS:\n",
      "a set or category of things having some property or attribute in common and differentiated from others by kind, type, or quality.\n",
      "OBJECT:\n",
      "objects are the things you think about first in designing a program and they are also the units of code that are eventually derived from the process.Each object is an instance of a particular class or subclass with the class's own methods or procedures and data variables.\n",
      "ATTRIBUTES:\n",
      "Attributes are data stored inside a class or instance and represent the state or quality of the class or instance. In short, attributes store information about the instance.\n",
      "BEHAVIOUR:\n",
      " A class's behavior determines how an instance of that class operates; for example, how it will react if asked to do something by another class or object or if its internal state changes. Behavior is the only way objects can do anything to themselves or have anything done to them.\n"
     ]
    }
   ],
   "source": [
    "#define the following\n",
    "print(\"CLASS:\")\n",
    "print(\"a set or category of things having some property or attribute in common and differentiated from others by kind, type, or quality.\")\n",
    "print(\"OBJECT:\")\n",
    "print(\"objects are the things you think about first in designing a program and they are also the units of code that are eventually derived from the process.Each object is an instance of a particular class or subclass with the class's own methods or procedures and data variables.\")\n",
    "print(\"ATTRIBUTES:\")\n",
    "print(\"Attributes are data stored inside a class or instance and represent the state or quality of the class or instance. In short, attributes store information about the instance.\")\n",
    "print(\"BEHAVIOUR:\")\n",
    "print(\" A class's behavior determines how an instance of that class operates; for example, how it will react if asked to do something by another class or object or if its internal state changes. Behavior is the only way objects can do anything to themselves or have anything done to them.\")"
   ]
  },
  {
   "cell_type": "code",
   "execution_count": null,
   "metadata": {},
   "outputs": [],
   "source": []
  }
 ],
 "metadata": {
  "kernelspec": {
   "display_name": "Python 3",
   "language": "python",
   "name": "python3"
  },
  "language_info": {
   "codemirror_mode": {
    "name": "ipython",
    "version": 3
   },
   "file_extension": ".py",
   "mimetype": "text/x-python",
   "name": "python",
   "nbconvert_exporter": "python",
   "pygments_lexer": "ipython3",
   "version": "3.7.4"
  }
 },
 "nbformat": 4,
 "nbformat_minor": 2
}
