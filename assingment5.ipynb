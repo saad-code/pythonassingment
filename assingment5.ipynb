{
 "cells": [
  {
   "cell_type": "code",
   "execution_count": 1,
   "metadata": {},
   "outputs": [
    {
     "name": "stdout",
     "output_type": "stream",
     "text": [
      "Input a number to compute the factiorial : 5\n",
      "120\n"
     ]
    }
   ],
   "source": [
    "def factorial(n):\n",
    "    if n == 0:\n",
    "        return 1\n",
    "    else:\n",
    "        return n * factorial(n-1)\n",
    "n=int(input(\"Input a number to calculate the factiorial : \"))\n",
    "print(factorial(n))"
   ]
  },
  {
   "cell_type": "code",
   "execution_count": 3,
   "metadata": {},
   "outputs": [
    {
     "name": "stdout",
     "output_type": "stream",
     "text": [
      "Original String :  Software Engineering\n",
      "No. of Upper case characters :  2\n",
      "No. of Lower case Characters :  17\n"
     ]
    }
   ],
   "source": [
    "def string_test(s):\n",
    "    d={\"UPPER_CASE\":0, \"LOWER_CASE\":0}\n",
    "    for c in s:\n",
    "        if c.isupper():\n",
    "           d[\"UPPER_CASE\"]+=1\n",
    "        elif c.islower():\n",
    "           d[\"LOWER_CASE\"]+=1\n",
    "        else:\n",
    "           pass\n",
    "    print (\"Original String : \", s)\n",
    "    print (\"No. of Upper case characters : \", d[\"UPPER_CASE\"])\n",
    "    print (\"No. of Lower case Characters : \", d[\"LOWER_CASE\"])\n",
    "\n",
    "string_test('Software Engineering')"
   ]
  },
  {
   "cell_type": "code",
   "execution_count": 8,
   "metadata": {},
   "outputs": [
    {
     "name": "stdout",
     "output_type": "stream",
     "text": [
      "8 4 66 92 "
     ]
    }
   ],
   "source": [
    "list1 = [8, 5, 4, 45, 66, 92] \n",
    "   \n",
    "for num in list1: \n",
    "      \n",
    "    if num % 2 == 0: \n",
    "       print(num, end = \" \") "
   ]
  },
  {
   "cell_type": "code",
   "execution_count": 10,
   "metadata": {},
   "outputs": [
    {
     "name": "stdout",
     "output_type": "stream",
     "text": [
      "True\n"
     ]
    }
   ],
   "source": [
    "def test_prime(n):\n",
    "    if (n==1):\n",
    "        return False\n",
    "    elif (n==2):\n",
    "        return True;\n",
    "    else:\n",
    "        for x in range(2,n):\n",
    "            if(n % x==0):\n",
    "                return False\n",
    "        return True             \n",
    "print(test_prime(7))"
   ]
  },
  {
   "cell_type": "code",
   "execution_count": null,
   "metadata": {},
   "outputs": [],
   "source": []
  }
 ],
 "metadata": {
  "kernelspec": {
   "display_name": "Python 3",
   "language": "python",
   "name": "python3"
  },
  "language_info": {
   "codemirror_mode": {
    "name": "ipython",
    "version": 3
   },
   "file_extension": ".py",
   "mimetype": "text/x-python",
   "name": "python",
   "nbconvert_exporter": "python",
   "pygments_lexer": "ipython3",
   "version": "3.7.4"
  }
 },
 "nbformat": 4,
 "nbformat_minor": 2
}
