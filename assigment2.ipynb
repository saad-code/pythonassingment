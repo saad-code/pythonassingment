{
 "cells": [
  {
   "cell_type": "code",
   "execution_count": null,
   "metadata": {},
   "outputs": [],
   "source": [
    "s1=int (input(\"Enter marks of subject 1:\"))\n",
    "s2=int (input(\"Enter marks of subject 2:\"))\n",
    "s3=int (input(\"Enter marks of subject 3:\"))\n",
    "s4=int (input(\"Enter marks of subject 4:\"))\n",
    "s5=int (input(\"Enter marks of subject 5:\"))\n",
    "total=s1+s2+s3+s4+s5\n",
    "per=(total/500)*100\n",
    "if per >=80:\n",
    "    print(\"Grade A+ and Percentage:\",per)\n",
    "elif per>=70 and per<80:\n",
    "    print(\"Grade A and Percntage:\",per)\n",
    "elif per>=60 and per<70:\n",
    "    print(\"Grade B and Percentage:\",per)\n",
    "elif per>=50 and per<60:\n",
    "    print(\"Grade C and Percentage:\",per)\n",
    "else:\n",
    "    print(\"Fail!\")"
   ]
  },
  {
   "cell_type": "code",
   "execution_count": null,
   "metadata": {},
   "outputs": [],
   "source": [
    "num=int(input(\"Enter number:\"))\n",
    "mod=num % 2\n",
    "if mod = 0:\n",
    "    print(\"Number is Even!\")\n",
    "else:\n",
    "    print(\"Number is Odd!\")"
   ]
  },
  {
   "cell_type": "code",
   "execution_count": null,
   "metadata": {},
   "outputs": [],
   "source": [
    "n = len([10, 20, 30]) \n",
    "print(\"The length of list is: \", n) "
   ]
  },
  {
   "cell_type": "code",
   "execution_count": null,
   "metadata": {},
   "outputs": [],
   "source": [
    "lst = [5]\n",
    "    numbers = int(input('Enter number '))\n",
    "    lst.append(numbers)\n",
    "print(\"Sum of elements in given list is :\", sum(lst))"
   ]
  },
  {
   "cell_type": "code",
   "execution_count": null,
   "metadata": {},
   "outputs": [],
   "source": [
    "list1 = [10, 69, 4, 49, 91] \n",
    "print(\"Largest element is:\", max(list1)) "
   ]
  }
 ],
 "metadata": {
  "kernelspec": {
   "display_name": "Python 3",
   "language": "python",
   "name": "python3"
  },
  "language_info": {
   "codemirror_mode": {
    "name": "ipython",
    "version": 3
   },
   "file_extension": ".py",
   "mimetype": "text/x-python",
   "name": "python",
   "nbconvert_exporter": "python",
   "pygments_lexer": "ipython3",
   "version": "3.7.4"
  }
 },
 "nbformat": 4,
 "nbformat_minor": 2
}
